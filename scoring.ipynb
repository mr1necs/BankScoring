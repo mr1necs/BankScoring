{
 "cells": [
  {
   "metadata": {},
   "cell_type": "markdown",
   "source": [
    "## Задачи\n",
    "1. Обучить модель логистической регрессии для скоринга заявок не более чем на 20 признаках.\n",
    "2. Для выбранных переменных рассчитать коэффициенты корреляции в файле формата XLSX.\n",
    "3. Проскорить тестовую выборку из файла `test_oot.pkl`, получив два поля `application_id_axi` и `score` в формате PKL.\n"
   ],
   "id": "136be3d5b3ddffa8"
  },
  {
   "metadata": {
    "ExecuteTime": {
     "end_time": "2025-07-14T07:25:01.879181Z",
     "start_time": "2025-07-14T07:25:01.346070Z"
    }
   },
   "cell_type": "code",
   "source": "!pip install openpyxl",
   "id": "7ea1db44362520e3",
   "outputs": [
    {
     "name": "stdout",
     "output_type": "stream",
     "text": [
      "Requirement already satisfied: openpyxl in /Users/mr1necs/miniconda3/lib/python3.12/site-packages (3.1.5)\r\n",
      "Requirement already satisfied: et-xmlfile in /Users/mr1necs/miniconda3/lib/python3.12/site-packages (from openpyxl) (2.0.0)\r\n"
     ]
    }
   ],
   "execution_count": 1
  },
  {
   "metadata": {
    "ExecuteTime": {
     "end_time": "2025-07-14T07:25:03.035733Z",
     "start_time": "2025-07-14T07:25:01.881940Z"
    }
   },
   "cell_type": "code",
   "source": [
    "import warnings\n",
    "\n",
    "import numpy as np\n",
    "import pandas as pd\n",
    "from category_encoders.woe import WOEEncoder\n",
    "from sklearn.feature_selection import VarianceThreshold\n",
    "from sklearn.impute import SimpleImputer\n",
    "from sklearn.linear_model import LogisticRegression\n",
    "from sklearn.metrics import roc_auc_score, log_loss, brier_score_loss\n",
    "from sklearn.model_selection import GridSearchCV, train_test_split, KFold\n",
    "from sklearn.preprocessing import KBinsDiscretizer\n",
    "\n",
    "warnings.filterwarnings(\n",
    "    \"ignore\",\n",
    "    message=\"Bins whose width are too small*\",\n",
    "    module=\"sklearn.preprocessing._discretization\"\n",
    ")"
   ],
   "id": "c918644ccf7eb42a",
   "outputs": [],
   "execution_count": 2
  },
  {
   "metadata": {
    "ExecuteTime": {
     "end_time": "2025-07-14T07:25:03.988445Z",
     "start_time": "2025-07-14T07:25:03.088457Z"
    }
   },
   "cell_type": "code",
   "source": [
    "def convert_float16(df_):\n",
    "    cols16 = df_.select_dtypes(include=['float16']).columns\n",
    "    df_[cols16] = df_[cols16].astype(np.float32)\n",
    "    return df_\n",
    "\n",
    "\n",
    "exclude = [\n",
    "    'fpd15', 'finalscore_point', 'limit_final', 'application_id_axi',\n",
    "    'segment', 'client_id', 'loan_id', 'set_type', 'application_date'\n",
    "]\n",
    "\n",
    "leak_keywords = [\n",
    "    'bad', 'good', 'closed', 'pastdue', 'outst', 'paymnt', 'paymtnbki', 'liv', 'reg', 'date', 'name'\n",
    "]\n",
    "\n",
    "df = pd.read_pickle('data/train.pkl')\n",
    "df = df[df['fpd15'].notna()].reset_index(drop=True)\n",
    "df = convert_float16(df)\n",
    "\n",
    "suspicious = [col for col in df.columns if any(key in col.lower() for key in leak_keywords)]\n",
    "raw_features = [c for c in df.columns if (c not in exclude and c not in suspicious)]\n",
    "\n",
    "X = df.drop(columns=['fpd15'])\n",
    "y = df['fpd15']"
   ],
   "id": "bdf41acb7a62c33e",
   "outputs": [],
   "execution_count": 3
  },
  {
   "metadata": {
    "ExecuteTime": {
     "end_time": "2025-07-14T07:25:04.195069Z",
     "start_time": "2025-07-14T07:25:04.001920Z"
    }
   },
   "cell_type": "code",
   "source": [
    "# Разделение на train/test\n",
    "\n",
    "X_tr, X_te, y_train, y_test = train_test_split(X, y, stratify=y, test_size=0.25, random_state=42)\n",
    "X_train, X_test = X_tr[raw_features].copy(), X_te[raw_features].copy()"
   ],
   "id": "3ad751f53279460c",
   "outputs": [],
   "execution_count": 4
  },
  {
   "metadata": {
    "ExecuteTime": {
     "end_time": "2025-07-14T07:25:04.217322Z",
     "start_time": "2025-07-14T07:25:04.214341Z"
    }
   },
   "cell_type": "code",
   "source": [
    "def fit_num_features(df, missing_threshold=0.8, var_threshold=0.01, n_bins=5):\n",
    "    num_cols = df.select_dtypes(include='number').columns.tolist()\n",
    "\n",
    "    # 1. Убираем признаки с большим числом пропусков\n",
    "    miss_frac = df[num_cols].isnull().mean()\n",
    "    num_cols = [f for f in num_cols if miss_frac[f] <= missing_threshold]\n",
    "\n",
    "    # 2. Удаляем квазиконстантные признаки\n",
    "    vt = VarianceThreshold(threshold=var_threshold)\n",
    "    vt.fit(df[num_cols])\n",
    "    num_cols = [c for c, keep in zip(df[num_cols].columns, vt.get_support()) if keep]\n",
    "\n",
    "    # 3. Убираем дублирующие признаки\n",
    "    num_cols = df[num_cols].T.drop_duplicates().index.tolist()\n",
    "\n",
    "    # 4. Импутатор (fit на train)\n",
    "    imputer = SimpleImputer(strategy='median')\n",
    "    imputer.fit(df[num_cols])\n",
    "    df_num_imp = pd.DataFrame(imputer.transform(df[num_cols]), columns=num_cols, index=df.index)\n",
    "\n",
    "    # 5. Биннинг\n",
    "    kbin = KBinsDiscretizer(n_bins=n_bins, encode='ordinal', strategy='quantile')\n",
    "    kbin.fit(df_num_imp[num_cols])\n",
    "\n",
    "    return {'num_cols': num_cols, 'imputer': imputer, 'kbin': kbin}\n",
    "\n",
    "\n",
    "def transform_num_features(df, params):\n",
    "    df_num = df[params['num_cols']].copy()\n",
    "    # Импутация\n",
    "    df_num_imp = pd.DataFrame(\n",
    "        params['imputer'].transform(df_num), columns=df_num.columns, index=df_num.index\n",
    "    )\n",
    "    # KBinsDiscretizer\n",
    "    df_binned = pd.DataFrame(\n",
    "        params['kbin'].transform(df_num_imp), columns=df_num.columns, index=df_num.index\n",
    "    )\n",
    "    return df_binned.astype(int)"
   ],
   "id": "1d3fe38704a09be4",
   "outputs": [],
   "execution_count": 5
  },
  {
   "metadata": {
    "ExecuteTime": {
     "end_time": "2025-07-14T07:25:04.240168Z",
     "start_time": "2025-07-14T07:25:04.237756Z"
    }
   },
   "cell_type": "code",
   "source": [
    "def fit_cat_features(df, missing_threshold=0.6):\n",
    "    cat_cols = df.select_dtypes(include=['object', 'category']).columns.tolist()\n",
    "\n",
    "    # 1. Убираем признаки с большим числом пропусков\n",
    "    miss_frac = df[cat_cols].isnull().mean()\n",
    "    valid_cols = [c for c in cat_cols if miss_frac[c] <= missing_threshold]\n",
    "\n",
    "    # 2. Удаляем константные признаки\n",
    "    nunique = df[valid_cols].nunique()\n",
    "    valid_cols = [c for c in valid_cols if nunique[c] > 1]\n",
    "\n",
    "    # 3. Сохраняем, каким значением заполнять пропуски\n",
    "    fill_values = {c: df[c].mode()[0] for c in valid_cols}\n",
    "\n",
    "    return {'cat_cols': valid_cols, 'fill_values': fill_values}\n",
    "\n",
    "\n",
    "def transform_cat_features(df, params):\n",
    "    df_cat = df[params['cat_cols']].copy()\n",
    "    # Заполняем пропуски заранее сохранёнными mode\n",
    "    df_cat = df_cat.fillna(params['fill_values'])\n",
    "    return df_cat"
   ],
   "id": "beb8dc2729dd6c85",
   "outputs": [],
   "execution_count": 6
  },
  {
   "metadata": {
    "ExecuteTime": {
     "end_time": "2025-07-14T07:25:06.110905Z",
     "start_time": "2025-07-14T07:25:04.260162Z"
    }
   },
   "cell_type": "code",
   "source": [
    "num_params = fit_num_features(X_train)\n",
    "cat_params = fit_cat_features(X_train)\n",
    "\n",
    "X_train_num = transform_num_features(X_train, num_params)\n",
    "X_train_cat = transform_cat_features(X_train, cat_params)\n",
    "\n",
    "X_test_num = transform_num_features(X_test, num_params)\n",
    "X_test_cat = transform_cat_features(X_test, cat_params)\n",
    "\n",
    "X_train = pd.concat([X_train_num, X_train_cat], axis=1)\n",
    "X_test = pd.concat([X_test_num, X_test_cat], axis=1)\n"
   ],
   "id": "4c8b77ef77bbac0",
   "outputs": [],
   "execution_count": 7
  },
  {
   "metadata": {
    "ExecuteTime": {
     "end_time": "2025-07-14T07:25:17.504079Z",
     "start_time": "2025-07-14T07:25:06.134118Z"
    }
   },
   "cell_type": "code",
   "source": [
    "# WOE Encoding\n",
    "\n",
    "def woe_encode_oof(X, y, cols, n_splits=5, random_state=42):\n",
    "    X_woe = pd.DataFrame(index=X.index)\n",
    "    kf = KFold(n_splits=n_splits, shuffle=True, random_state=random_state)\n",
    "    for train_idx, val_idx in kf.split(X):\n",
    "        X_tr, X_val = X.iloc[train_idx], X.iloc[val_idx]\n",
    "        y_tr = y.iloc[train_idx]\n",
    "        encoder = WOEEncoder(cols=cols)\n",
    "        encoder.fit(X_tr, y_tr)\n",
    "        X_woe_fold = encoder.transform(X_val)\n",
    "        X_woe.loc[X_val.index, X_woe_fold.columns] = X_woe_fold.values\n",
    "    return X_woe\n",
    "\n",
    "\n",
    "X_train_woe = woe_encode_oof(X_train, y_train, X_train.columns)\n",
    "woe_encoder = WOEEncoder(cols=X_train.columns)\n",
    "woe_encoder.fit(X_train, y_train)\n",
    "X_test_woe = woe_encoder.transform(X_test)"
   ],
   "id": "9c70d0089c1c8d39",
   "outputs": [],
   "execution_count": 8
  },
  {
   "metadata": {
    "ExecuteTime": {
     "end_time": "2025-07-14T07:25:23.731121Z",
     "start_time": "2025-07-14T07:25:17.536340Z"
    }
   },
   "cell_type": "code",
   "source": [
    "# Вычисляем Information Value (IV)\n",
    "\n",
    "def calc_iv(df, feature, target):\n",
    "    groups = df.groupby(feature, observed=True)[target].agg(['count', 'sum'])\n",
    "    groups['non_event'] = groups['count'] - groups['sum']\n",
    "    groups['event_rate'] = groups['sum'] / groups['sum'].sum()\n",
    "    groups['non_event_rate'] = groups['non_event'] / groups['non_event'].sum()\n",
    "    groups['woe'] = np.log((groups['event_rate'] + 1e-8) / (groups['non_event_rate'] + 1e-8))\n",
    "    groups['iv'] = (groups['event_rate'] - groups['non_event_rate']) * groups['woe']\n",
    "    return groups['iv'].sum()\n",
    "\n",
    "\n",
    "iv_dict = {\n",
    "    col: calc_iv(pd.concat([X_train_woe, y_train], axis=1), col, 'fpd15')\n",
    "    for col in X_train_woe.columns\n",
    "}\n",
    "iv_series = pd.Series(iv_dict).sort_values(ascending=False)\n"
   ],
   "id": "3b03ba50368c5d94",
   "outputs": [],
   "execution_count": 9
  },
  {
   "metadata": {
    "ExecuteTime": {
     "end_time": "2025-07-14T07:25:23.763370Z",
     "start_time": "2025-07-14T07:25:23.759867Z"
    }
   },
   "cell_type": "code",
   "source": [
    "# Ограничиваем 20-ю лучшими по IV\n",
    "\n",
    "best_features = iv_series.head(20).index.tolist()\n",
    "\n",
    "X_train_sel = X_train_woe[best_features]\n",
    "X_test_sel = X_test_woe[best_features]\n",
    "\n",
    "print(\"Лучшие фичи: \\n\" + '\\n'.join(f'{i + 1:2d}. {feature}' for i, feature in enumerate(best_features)))"
   ],
   "id": "2e2b4436a3c51780",
   "outputs": [
    {
     "name": "stdout",
     "output_type": "stream",
     "text": [
      "Лучшие фичи: \n",
      " 1. sumlimitallactivenbki\n",
      " 2. avgcurbalall90nbki\n",
      " 3. avgcurbalall60nbki\n",
      " 4. avgcurbalall180nbki\n",
      " 5. sumcurbalallactivenbki\n",
      " 6. sumcurbalallnbki\n",
      " 7. avgcurbal_dcurrrequestall90nbki\n",
      " 8. sumlimitallnbki\n",
      " 9. sumcurbalall90nbki\n",
      "10. avgcurbal_dcurrrequestall60nbki\n",
      "11. avglimitallactivenbki\n",
      "12. avglimit_dcurrrequestallactivenbki\n",
      "13. avgcurbal_dlimitall90nbki\n",
      "14. sumcurbalall180nbki\n",
      "15. avgcurbal_dcurrrequestall180nbki\n",
      "16. avglimitall60activenbki\n",
      "17. sumlimitall365activenbki\n",
      "18. avglimitall180activenbki\n",
      "19. avglimitall30nbki\n",
      "20. avglimitall270activenbki\n"
     ]
    }
   ],
   "execution_count": 10
  },
  {
   "metadata": {
    "ExecuteTime": {
     "end_time": "2025-07-14T07:25:23.914782Z",
     "start_time": "2025-07-14T07:25:23.796672Z"
    }
   },
   "cell_type": "code",
   "source": [
    "# Создание файла Excel\n",
    "\n",
    "corr_matrix = X_train_woe[best_features].corr()\n",
    "output_path = 'data/correlation_matrix.xlsx'\n",
    "corr_matrix.to_excel(output_path)"
   ],
   "id": "c1c0fd0d8cb6741d",
   "outputs": [],
   "execution_count": 11
  },
  {
   "metadata": {
    "ExecuteTime": {
     "end_time": "2025-07-14T07:25:25.875769Z",
     "start_time": "2025-07-14T07:25:23.949799Z"
    }
   },
   "cell_type": "code",
   "source": [
    "# Поиск лучших гиперпараметров\n",
    "\n",
    "param_grid = {\n",
    "    'C': [0.01, 0.1, 1, 10, 100],\n",
    "    'penalty': ['l1', 'l2'],\n",
    "    'solver': ['liblinear']\n",
    "}\n",
    "\n",
    "logreg = LogisticRegression(max_iter=1000, class_weight='balanced')\n",
    "\n",
    "model = GridSearchCV(logreg, param_grid, scoring='roc_auc', cv=5, n_jobs=-1)\n",
    "model.fit(X_train_sel, y_train)\n",
    "\n",
    "print(\"Лучшие параметры:\", model.best_params_)"
   ],
   "id": "6924a5aa292bfdb4",
   "outputs": [
    {
     "name": "stdout",
     "output_type": "stream",
     "text": [
      "Лучшие параметры: {'C': 0.1, 'penalty': 'l1', 'solver': 'liblinear'}\n"
     ]
    }
   ],
   "execution_count": 12
  },
  {
   "metadata": {
    "ExecuteTime": {
     "end_time": "2025-07-14T07:25:25.916734Z",
     "start_time": "2025-07-14T07:25:25.914803Z"
    }
   },
   "cell_type": "code",
   "source": [
    "# Расчет метрик\n",
    "\n",
    "def compute_continuous_metrics(y_true, probs, baseline=None):\n",
    "    return {\n",
    "        'roc_auc': roc_auc_score(y_true, probs),\n",
    "        'log_loss': log_loss(y_true, probs),\n",
    "        'brier_score': brier_score_loss(y_true, probs),\n",
    "        'corr_vs_fs': np.corrcoef(probs, baseline)[0, 1],\n",
    "    }"
   ],
   "id": "42708e613ddd3d80",
   "outputs": [],
   "execution_count": 13
  },
  {
   "metadata": {
    "ExecuteTime": {
     "end_time": "2025-07-14T07:25:26.030710Z",
     "start_time": "2025-07-14T07:25:25.988867Z"
    }
   },
   "cell_type": "code",
   "source": [
    "# Прогнозные вероятности на train и test\n",
    "\n",
    "p_train = model.predict_proba(X_train_sel)[:, 1]\n",
    "p_test = model.predict_proba(X_test_sel)[:, 1]\n",
    "baseline_train = X_tr['finalscore_point']\n",
    "baseline_test = X_te['finalscore_point']\n",
    "\n",
    "\n",
    "train_metrics = compute_continuous_metrics(y_train, p_train, baseline=baseline_train)\n",
    "test_metrics = compute_continuous_metrics(y_test, p_test, baseline=baseline_test)\n",
    "baseline_metrics = compute_continuous_metrics(y_train, X_tr['finalscore_point'], baseline=baseline_train)\n",
    "\n",
    "metrics_df = pd.DataFrame({\n",
    "    'train': train_metrics,\n",
    "    'test': test_metrics,\n",
    "    'baseline': baseline_metrics\n",
    "})\n",
    "\n",
    "print(metrics_df)"
   ],
   "id": "aa5f8032068c735e",
   "outputs": [
    {
     "name": "stdout",
     "output_type": "stream",
     "text": [
      "                train      test  baseline\n",
      "roc_auc      0.612660  0.604439  0.694049\n",
      "log_loss     0.673237  0.673046  0.442374\n",
      "brier_score  0.240128  0.240040  0.141154\n",
      "corr_vs_fs   0.485413  0.481238  1.000000\n"
     ]
    }
   ],
   "execution_count": 14
  },
  {
   "metadata": {
    "ExecuteTime": {
     "end_time": "2025-07-14T07:25:26.291576Z",
     "start_time": "2025-07-14T07:25:26.073008Z"
    }
   },
   "cell_type": "code",
   "source": [
    "# Загрузка данных с тестовой выборки\n",
    "\n",
    "df_oot = pd.read_pickle('data/test_oot.pkl')\n",
    "X_oot = df_oot[raw_features]"
   ],
   "id": "2a73b336869ae884",
   "outputs": [],
   "execution_count": 15
  },
  {
   "metadata": {
    "ExecuteTime": {
     "end_time": "2025-07-14T07:25:26.431984Z",
     "start_time": "2025-07-14T07:25:26.328622Z"
    }
   },
   "cell_type": "code",
   "source": [
    "# Трансформация фичей\n",
    "\n",
    "X_oot_num = transform_num_features(X_oot, num_params)\n",
    "X_oot_cat = transform_cat_features(X_oot, cat_params)\n",
    "X_oot = pd.concat([X_oot_num, X_oot_cat], axis=1)"
   ],
   "id": "d2762225125ea680",
   "outputs": [],
   "execution_count": 16
  },
  {
   "metadata": {
    "ExecuteTime": {
     "end_time": "2025-07-14T07:25:26.810474Z",
     "start_time": "2025-07-14T07:25:26.469264Z"
    }
   },
   "cell_type": "code",
   "source": [
    "# WOE\n",
    "\n",
    "X_oot_woe = woe_encoder.transform(X_oot)\n",
    "X_oot_sel = X_oot_woe[best_features]"
   ],
   "id": "329f152d701d5298",
   "outputs": [],
   "execution_count": 17
  },
  {
   "metadata": {
    "ExecuteTime": {
     "end_time": "2025-07-14T07:25:26.877400Z",
     "start_time": "2025-07-14T07:25:26.855412Z"
    }
   },
   "cell_type": "code",
   "source": [
    "# Расчет скоров\n",
    "\n",
    "df_oot['score'] = model.predict_proba(X_oot_sel)[:, 1]"
   ],
   "id": "62d9a392b17c9911",
   "outputs": [],
   "execution_count": 18
  },
  {
   "metadata": {
    "ExecuteTime": {
     "end_time": "2025-07-14T07:25:27.063480Z",
     "start_time": "2025-07-14T07:25:27.056587Z"
    }
   },
   "cell_type": "code",
   "source": [
    "# Созранение данных скоров\n",
    "\n",
    "output_df = df_oot[['application_id_axi', 'score']]\n",
    "output_path = 'data/test_scores.pkl'\n",
    "output_df.to_pickle(output_path)"
   ],
   "id": "ce9fc3fbfb3e758b",
   "outputs": [],
   "execution_count": 19
  },
  {
   "metadata": {
    "ExecuteTime": {
     "end_time": "2025-07-14T07:25:27.130914Z",
     "start_time": "2025-07-14T07:25:27.123075Z"
    }
   },
   "cell_type": "code",
   "source": [
    "# Проверка\n",
    "\n",
    "test = pd.read_pickle('data/test_scores.pkl')\n",
    "test.head()"
   ],
   "id": "704697b4d8e9bf43",
   "outputs": [
    {
     "data": {
      "text/plain": [
       "     application_id_axi     score\n",
       "2591          6263684-1  0.629545\n",
       "2592          6263717-1  0.479027\n",
       "2593          6263719-1  0.475985\n",
       "2594          6263722-1  0.707740\n",
       "2595          6263727-1  0.544553"
      ],
      "text/html": [
       "<div>\n",
       "<style scoped>\n",
       "    .dataframe tbody tr th:only-of-type {\n",
       "        vertical-align: middle;\n",
       "    }\n",
       "\n",
       "    .dataframe tbody tr th {\n",
       "        vertical-align: top;\n",
       "    }\n",
       "\n",
       "    .dataframe thead th {\n",
       "        text-align: right;\n",
       "    }\n",
       "</style>\n",
       "<table border=\"1\" class=\"dataframe\">\n",
       "  <thead>\n",
       "    <tr style=\"text-align: right;\">\n",
       "      <th></th>\n",
       "      <th>application_id_axi</th>\n",
       "      <th>score</th>\n",
       "    </tr>\n",
       "  </thead>\n",
       "  <tbody>\n",
       "    <tr>\n",
       "      <th>2591</th>\n",
       "      <td>6263684-1</td>\n",
       "      <td>0.629545</td>\n",
       "    </tr>\n",
       "    <tr>\n",
       "      <th>2592</th>\n",
       "      <td>6263717-1</td>\n",
       "      <td>0.479027</td>\n",
       "    </tr>\n",
       "    <tr>\n",
       "      <th>2593</th>\n",
       "      <td>6263719-1</td>\n",
       "      <td>0.475985</td>\n",
       "    </tr>\n",
       "    <tr>\n",
       "      <th>2594</th>\n",
       "      <td>6263722-1</td>\n",
       "      <td>0.707740</td>\n",
       "    </tr>\n",
       "    <tr>\n",
       "      <th>2595</th>\n",
       "      <td>6263727-1</td>\n",
       "      <td>0.544553</td>\n",
       "    </tr>\n",
       "  </tbody>\n",
       "</table>\n",
       "</div>"
      ]
     },
     "execution_count": 20,
     "metadata": {},
     "output_type": "execute_result"
    }
   ],
   "execution_count": 20
  },
  {
   "metadata": {
    "ExecuteTime": {
     "end_time": "2025-07-14T07:25:27.184859Z",
     "start_time": "2025-07-14T07:25:27.183631Z"
    }
   },
   "cell_type": "code",
   "source": "",
   "id": "c6affdf95ce63b98",
   "outputs": [],
   "execution_count": null
  }
 ],
 "metadata": {
  "kernelspec": {
   "display_name": "Python 3",
   "language": "python",
   "name": "python3"
  },
  "language_info": {
   "codemirror_mode": {
    "name": "ipython",
    "version": 2
   },
   "file_extension": ".py",
   "mimetype": "text/x-python",
   "name": "python",
   "nbconvert_exporter": "python",
   "pygments_lexer": "ipython2",
   "version": "2.7.6"
  }
 },
 "nbformat": 4,
 "nbformat_minor": 5
}
